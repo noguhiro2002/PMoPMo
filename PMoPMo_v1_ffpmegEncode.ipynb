{
 "cells": [
  {
   "cell_type": "markdown",
   "id": "85de7876-fd31-4fb5-9f30-0bb0f145e064",
   "metadata": {},
   "source": [
    "# Python Movie Process Modules, FFMPEG Encode Samples\n",
    "### Ver. 1.0\n",
    "### noguhiro2002, 2022/05/22\n",
    "---"
   ]
  },
  {
   "cell_type": "markdown",
   "id": "cd6a65b2-38f5-4227-9e3f-3ba284e678e2",
   "metadata": {},
   "source": [
    "## Sample codes"
   ]
  },
  {
   "cell_type": "markdown",
   "id": "11865893-e250-4869-80f4-914df2c5329b",
   "metadata": {},
   "source": [
    "### 1. Change Scale (1080 --> 720) and bitrate (--> 3Mbps)"
   ]
  },
  {
   "cell_type": "code",
   "execution_count": 5,
   "id": "1e26b4b6-c999-440c-97eb-ba3518553ddb",
   "metadata": {},
   "outputs": [],
   "source": [
    "import ffmpeg\n",
    "\n",
    "inputVideoPath=\"./tmp/onlyEncode_final.mp4\"\n",
    "outputVideoPath=\"./tmp/onlyEncode_final_720_3Mbps.mp4\"\n",
    "outputBitrate=3000\n",
    "outputWidth=1280\n",
    "\n",
    "video=ffmpeg.input(inputVideoPath)\n",
    "video=video.filter('scale', outputWidth, -1)\n",
    "video=video.output(outputVideoPath,video_bitrate=outputBitrate*1000, format=\"mp4\") #Encode of the movie\n",
    "video=video.run(overwrite_output=True, quiet=True) #Overwrite the movie"
   ]
  }
 ],
 "metadata": {
  "kernelspec": {
   "display_name": "Python 3 (ipykernel)",
   "language": "python",
   "name": "python3"
  },
  "language_info": {
   "codemirror_mode": {
    "name": "ipython",
    "version": 3
   },
   "file_extension": ".py",
   "mimetype": "text/x-python",
   "name": "python",
   "nbconvert_exporter": "python",
   "pygments_lexer": "ipython3",
   "version": "3.9.12"
  }
 },
 "nbformat": 4,
 "nbformat_minor": 5
}
